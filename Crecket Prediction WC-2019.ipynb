{
 "cells": [
  {
   "cell_type": "code",
   "execution_count": null,
   "metadata": {},
   "outputs": [],
   "source": [
    "import pandas as pd\n",
    "import numpy as np\n",
    "import matplotlib.pyplot as plt\n",
    "import seaborn as sns\n",
    "import matplotlib.ticker as ticker\n",
    "import matplotlib.ticker as plticker\n",
    "from sklearn.model_selection import train_test_split\n",
    "from sklearn.ensemble import RandomForestClassifier\n",
    "from sklearn.datasets import make_classification"
   ]
  },
  {
   "cell_type": "code",
   "execution_count": null,
   "metadata": {},
   "outputs": [],
   "source": [
    "world_cup = pd.read_csv('datasets/World Cup 2019 Dataset.csv')\n",
    "results = pd.read_csv('datasets/results.csv')"
   ]
  },
  {
   "cell_type": "code",
   "execution_count": null,
   "metadata": {},
   "outputs": [],
   "source": [
    "world_cup.head()\n"
   ]
  },
  {
   "cell_type": "code",
   "execution_count": null,
   "metadata": {},
   "outputs": [],
   "source": [
    "results.head()\n"
   ]
  },
  {
   "cell_type": "code",
   "execution_count": null,
   "metadata": {},
   "outputs": [],
   "source": [
    "df = results[(results['Team_1'] == 'India') | (results['Team_2'] == 'India')]\n",
    "india = df.iloc[:]\n",
    "india.head()"
   ]
  },
  {
   "cell_type": "code",
   "execution_count": null,
   "metadata": {},
   "outputs": [],
   "source": [
    "year = []\n",
    "for row in india['date']:\n",
    "    year.append(int(row[7:]))\n",
    "india ['match_year']= year\n",
    "india.head()\n",
    "india_2010 = india[india.match_year >= 10]\n",
    "india_2010.head()"
   ]
  },
  {
   "cell_type": "code",
   "execution_count": null,
   "metadata": {},
   "outputs": [],
   "source": [
    "worldcup_teams = ['England', ' South Africa', '', 'West Indies', \n",
    "            'Pakistan', 'New Zealand', 'Sri Lanka', 'Afghanistan', \n",
    "            'Australia', 'Bangladesh', 'India']\n",
    "df_teams_1 = results[results['Team_1'].isin(worldcup_teams)]\n",
    "df_teams_2 = results[results['Team_2'].isin(worldcup_teams)]\n",
    "df_teams = pd.concat((df_teams_1, df_teams_2))\n",
    "df_teams.drop_duplicates()\n",
    "df_teams.count()"
   ]
  },
  {
   "cell_type": "code",
   "execution_count": null,
   "metadata": {},
   "outputs": [],
   "source": [
    "df_teams.head()"
   ]
  },
  {
   "cell_type": "code",
   "execution_count": null,
   "metadata": {},
   "outputs": [],
   "source": [
    "df_teams_2010 = df_teams.drop(['date','Margin', 'Ground'], axis=1)\n",
    "df_teams_2010.head()"
   ]
  },
  {
   "cell_type": "code",
   "execution_count": null,
   "metadata": {},
   "outputs": [],
   "source": [
    "df_teams_2010 = df_teams_2010.reset_index(drop=True)\n",
    "df_teams_2010.loc[df_teams_2010.Winner == df_teams_2010.Team_1,'winning_team']=1\n",
    "df_teams_2010.loc[df_teams_2010.Winner == df_teams_2010.Team_2, 'winning_team']=2\n",
    "df_teams_2010 = df_teams_2010.drop(['winning_team'], axis=1)\n",
    "\n",
    "df_teams_2010.head()"
   ]
  },
  {
   "cell_type": "code",
   "execution_count": null,
   "metadata": {},
   "outputs": [],
   "source": [
    "final = pd.get_dummies(df_teams_2010, prefix=['Team_1', 'Team_2'], columns=['Team_1', 'Team_2'])\n",
    "X = final.drop(['Winner'], axis=1)\n",
    "y = final[\"Winner\"]\n",
    "\n",
    "\n",
    "# Separate train and test sets\n",
    "X_train, X_test, y_train, y_test = train_test_split(X, y, test_size=0.40, random_state=42)\n"
   ]
  },
  {
   "cell_type": "code",
   "execution_count": null,
   "metadata": {},
   "outputs": [],
   "source": [
    "final.head()"
   ]
  },
  {
   "cell_type": "code",
   "execution_count": null,
   "metadata": {},
   "outputs": [],
   "source": [
    "\n",
    "rf = RandomForestClassifier(n_estimators=100, max_depth=20,\n",
    "                              random_state=0)\n",
    "rf.fit(X_train,y_train)\n",
    "score = rf.score(X_train, y_train)\n",
    "score2 = rf.score(X_test, y_test)\n",
    "\n",
    "print(\"Training set accuracy: \", '%.3f'%(score))\n",
    "print(\"Test set accuracy: \", '%.3f'%(score2))"
   ]
  },
  {
   "cell_type": "code",
   "execution_count": null,
   "metadata": {},
   "outputs": [],
   "source": [
    "#adding ICC rankings\n",
    "#the team which is positioned higher on the ICC Ranking will be considered \"favourite\" for the match\n",
    "#and therefore, will be positioned under the \"Team_1\" column\n",
    "\n",
    "# Loading new datasets\n",
    "ranking = pd.read_csv('datasets/icc_rankings.csv') \n",
    "fixtures = pd.read_csv('datasets/fixtures.csv')\n",
    "\n",
    "# List for storing the group stage games\n",
    "pred_set = []"
   ]
  },
  {
   "cell_type": "code",
   "execution_count": null,
   "metadata": {},
   "outputs": [],
   "source": [
    "# Create new columns with ranking position of each team\n",
    "fixtures.insert(1, 'first_position', fixtures['Team_1'].map(ranking.set_index('Team')['Position']))\n",
    "fixtures.insert(2, 'second_position', fixtures['Team_2'].map(ranking.set_index('Team')['Position']))\n",
    "\n",
    "# We only need the group stage games, so we have to slice the dataset\n",
    "fixtures = fixtures.iloc[:45, :]\n",
    "fixtures.tail()"
   ]
  },
  {
   "cell_type": "code",
   "execution_count": null,
   "metadata": {},
   "outputs": [],
   "source": [
    "# Loop to add teams to new prediction dataset based on the ranking position of each team\n",
    "for index, row in fixtures.iterrows():\n",
    "    if row['first_position'] < row['second_position']:\n",
    "        pred_set.append({'Team_1': row['Team_1'], 'Team_2': row['Team_2'], 'winning_team': None})\n",
    "    else:\n",
    "        pred_set.append({'Team_1': row['Team_2'], 'Team_2': row['Team_1'], 'winning_team': None})\n",
    "        \n",
    "pred_set = pd.DataFrame(pred_set)\n",
    "backup_pred_set = pred_set\n",
    "backup_pred_set.head()"
   ]
  },
  {
   "cell_type": "code",
   "execution_count": null,
   "metadata": {},
   "outputs": [],
   "source": [
    "# Get dummy variables and drop winning_team column\n",
    "pred_set = pd.get_dummies(pred_set, prefix=['Team_1', 'Team_2'], columns=['Team_1', 'Team_2'])\n",
    "\n",
    "# Add missing columns compared to the model's training dataset\n",
    "missing_cols = set(final.columns) - set(pred_set.columns)\n",
    "for c in missing_cols:\n",
    "    pred_set[c] = 0\n",
    "pred_set = pred_set[final.columns]\n",
    "\n",
    "\n",
    "pred_set = pred_set.drop(['Winner'], axis=1)\n",
    "pred_set.head()"
   ]
  },
  {
   "cell_type": "code",
   "execution_count": null,
   "metadata": {},
   "outputs": [],
   "source": [
    "#group matches \n",
    "predictions = rf.predict(pred_set)\n",
    "for i in range(fixtures.shape[0]):\n",
    "    print(backup_pred_set.iloc[i, 1] + \" and \" + backup_pred_set.iloc[i, 0])\n",
    "    if predictions[i] == 1:\n",
    "        print(\"Winner: \" + backup_pred_set.iloc[i, 1])\n",
    "    \n",
    "    else:\n",
    "        print(\"Winner: \" + backup_pred_set.iloc[i, 0])\n",
    "    print(\"\")"
   ]
  },
  {
   "cell_type": "code",
   "execution_count": null,
   "metadata": {},
   "outputs": [],
   "source": [
    "semi = [('New Zealand', 'India'),\n",
    "            ('England', 'Australia')]"
   ]
  },
  {
   "cell_type": "code",
   "execution_count": null,
   "metadata": {},
   "outputs": [],
   "source": [
    "def clean_and_predict(matches, ranking, final, logreg):\n",
    "\n",
    "    # Initialization of auxiliary list for data cleaning\n",
    "    positions = []\n",
    "\n",
    "    # Loop to retrieve each team's position according to ICC ranking\n",
    "    for match in matches:\n",
    "        positions.append(ranking.loc[ranking['Team'] == match[0],'Position'].iloc[0])\n",
    "        positions.append(ranking.loc[ranking['Team'] == match[1],'Position'].iloc[0])\n",
    "    \n",
    "    # Creating the DataFrame for prediction\n",
    "    pred_set = []\n",
    "\n",
    "    # Initializing iterators for while loop\n",
    "    i = 0\n",
    "    j = 0\n",
    "\n",
    "    # 'i' will be the iterator for the 'positions' list, and 'j' for the list of matches (list of tuples)\n",
    "    while i < len(positions):\n",
    "        dict1 = {}\n",
    "\n",
    "        # If position of first team is better then this team will be the 'Team_1' team, and vice-versa\n",
    "        if positions[i] < positions[i + 1]:\n",
    "            dict1.update({'Team_1': matches[j][0], 'Team_2': matches[j][1]})\n",
    "        else:\n",
    "            dict1.update({'Team_1': matches[j][1], 'Team_2': matches[j][0]})\n",
    "\n",
    "        # Append updated dictionary to the list, that will later be converted into a DataFrame\n",
    "        pred_set.append(dict1)\n",
    "        i += 2\n",
    "        j += 1\n",
    "        \n",
    "        # Convert list into DataFrame\n",
    "    pred_set = pd.DataFrame(pred_set)\n",
    "    backup_pred_set = pred_set\n",
    "\n",
    "    # Get dummy variables and drop winning_team column\n",
    "    pred_set = pd.get_dummies(pred_set, prefix=['Team_1', 'Team_2'], columns=['Team_1', 'Team_2'])\n",
    "\n",
    "    # Add missing columns compared to the model's training dataset\n",
    "    missing_cols2 = set(final.columns) - set(pred_set.columns)\n",
    "    for c in missing_cols2:\n",
    "        pred_set[c] = 0\n",
    "    pred_set = pred_set[final.columns]\n",
    "\n",
    "    pred_set = pred_set.drop(['Winner'], axis=1)\n",
    "\n",
    "    # Predict!\n",
    "    predictions = logreg.predict(pred_set)\n",
    "    for i in range(len(pred_set)):\n",
    "        print(backup_pred_set.iloc[i, 1] + \" and \" + backup_pred_set.iloc[i, 0])\n",
    "        if predictions[i] == 1:\n",
    "            print(\"Winner: \" + backup_pred_set.iloc[i, 1])\n",
    "        else:\n",
    "            print(\"Winner: \" + backup_pred_set.iloc[i, 0])\n",
    "        print(\"\")"
   ]
  },
  {
   "cell_type": "code",
   "execution_count": null,
   "metadata": {},
   "outputs": [],
   "source": [
    "clean_and_predict(semi, ranking, final, rf)"
   ]
  },
  {
   "cell_type": "code",
   "execution_count": null,
   "metadata": {},
   "outputs": [],
   "source": [
    "finals=[('England','India')]"
   ]
  },
  {
   "cell_type": "code",
   "execution_count": null,
   "metadata": {},
   "outputs": [],
   "source": [
    "clean_and_predict(finals, ranking, final, rf)"
   ]
  },
  {
   "cell_type": "code",
   "execution_count": null,
   "metadata": {},
   "outputs": [],
   "source": []
  }
 ],
 "metadata": {
  "kernelspec": {
   "display_name": "Python 3",
   "language": "python",
   "name": "python3"
  },
  "language_info": {
   "codemirror_mode": {
    "name": "ipython",
    "version": 3
   },
   "file_extension": ".py",
   "mimetype": "text/x-python",
   "name": "python",
   "nbconvert_exporter": "python",
   "pygments_lexer": "ipython3",
   "version": "3.7.0"
  }
 },
 "nbformat": 4,
 "nbformat_minor": 2
}
